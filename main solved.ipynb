{
 "cells": [
  {
   "cell_type": "code",
   "execution_count": 23,
   "metadata": {},
   "outputs": [],
   "source": [
    "# Import dependencies\n",
    "\n",
    "import requests"
   ]
  },
  {
   "cell_type": "code",
   "execution_count": 24,
   "metadata": {},
   "outputs": [],
   "source": [
    "# Set API URL\n",
    "url = \"https://api.limblecmms.com:443/v2/me\"\n",
    "\n",
    "# Set API 'id' variable\n",
    "id = 'your client id here'\n",
    "\n",
    "# Set api 'secret' Variable\n",
    "secret = 'your client secret here'\n"
   ]
  },
  {
   "cell_type": "code",
   "execution_count": 25,
   "metadata": {},
   "outputs": [
    {
     "name": "stdout",
     "output_type": "stream",
     "text": [
      "{\"customerName\":\"baxter llc\",\"customerPlan\":\"legacy\"}\n"
     ]
    }
   ],
   "source": [
    "# Create 'response' variable with requests.get method\n",
    "response = requests.get(\n",
    "    # Set method 'url' to url variable\n",
    "    url = url\n",
    "    # Set 'auth' to 'id' and 'secret' variables\n",
    "    auth = (id, secret)\n",
    ")\n",
    "# Print 'response.text' \n",
    "print(response.text)"
   ]
  },
  {
   "cell_type": "code",
   "execution_count": null,
   "metadata": {},
   "outputs": [],
   "source": []
  }
 ],
 "metadata": {
  "kernelspec": {
   "display_name": "dev",
   "language": "python",
   "name": "python3"
  },
  "language_info": {
   "codemirror_mode": {
    "name": "ipython",
    "version": 3
   },
   "file_extension": ".py",
   "mimetype": "text/x-python",
   "name": "python",
   "nbconvert_exporter": "python",
   "pygments_lexer": "ipython3",
   "version": "3.10.14"
  }
 },
 "nbformat": 4,
 "nbformat_minor": 2
}
